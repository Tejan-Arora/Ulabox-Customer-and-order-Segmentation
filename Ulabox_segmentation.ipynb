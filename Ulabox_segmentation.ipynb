{
 "cells": [
  {
   "cell_type": "code",
   "execution_count": null,
   "metadata": {},
   "outputs": [],
   "source": [
    "# I will clean this code soon and add comments in it\n"
   ]
  },
  {
   "cell_type": "code",
   "execution_count": 1,
   "metadata": {},
   "outputs": [],
   "source": [
    "import pandas as pd\n",
    "import numpy as np"
   ]
  },
  {
   "cell_type": "code",
   "execution_count": 2,
   "metadata": {},
   "outputs": [],
   "source": [
    "df = pd.read_csv('C:/Users/tejan/Desktop/Data_Science_Practice/datasets-master/data/ulabox_orders_with_categories_partials_2017.csv')"
   ]
  },
  {
   "cell_type": "code",
   "execution_count": 3,
   "metadata": {
    "scrolled": true
   },
   "outputs": [
    {
     "data": {
      "text/html": [
       "<div>\n",
       "<style scoped>\n",
       "    .dataframe tbody tr th:only-of-type {\n",
       "        vertical-align: middle;\n",
       "    }\n",
       "\n",
       "    .dataframe tbody tr th {\n",
       "        vertical-align: top;\n",
       "    }\n",
       "\n",
       "    .dataframe thead th {\n",
       "        text-align: right;\n",
       "    }\n",
       "</style>\n",
       "<table border=\"1\" class=\"dataframe\">\n",
       "  <thead>\n",
       "    <tr style=\"text-align: right;\">\n",
       "      <th></th>\n",
       "      <th>customer</th>\n",
       "      <th>order</th>\n",
       "      <th>total_items</th>\n",
       "      <th>discount%</th>\n",
       "      <th>weekday</th>\n",
       "      <th>hour</th>\n",
       "      <th>Food%</th>\n",
       "      <th>Fresh%</th>\n",
       "      <th>Drinks%</th>\n",
       "      <th>Home%</th>\n",
       "      <th>Beauty%</th>\n",
       "      <th>Health%</th>\n",
       "      <th>Baby%</th>\n",
       "      <th>Pets%</th>\n",
       "    </tr>\n",
       "  </thead>\n",
       "  <tbody>\n",
       "    <tr>\n",
       "      <th>0</th>\n",
       "      <td>0</td>\n",
       "      <td>0</td>\n",
       "      <td>45</td>\n",
       "      <td>23.03</td>\n",
       "      <td>4</td>\n",
       "      <td>13</td>\n",
       "      <td>9.46</td>\n",
       "      <td>87.06</td>\n",
       "      <td>3.48</td>\n",
       "      <td>0.00</td>\n",
       "      <td>0.00</td>\n",
       "      <td>0.00</td>\n",
       "      <td>0.0</td>\n",
       "      <td>0.0</td>\n",
       "    </tr>\n",
       "    <tr>\n",
       "      <th>1</th>\n",
       "      <td>0</td>\n",
       "      <td>1</td>\n",
       "      <td>38</td>\n",
       "      <td>1.22</td>\n",
       "      <td>5</td>\n",
       "      <td>13</td>\n",
       "      <td>15.87</td>\n",
       "      <td>75.80</td>\n",
       "      <td>6.22</td>\n",
       "      <td>2.12</td>\n",
       "      <td>0.00</td>\n",
       "      <td>0.00</td>\n",
       "      <td>0.0</td>\n",
       "      <td>0.0</td>\n",
       "    </tr>\n",
       "    <tr>\n",
       "      <th>2</th>\n",
       "      <td>0</td>\n",
       "      <td>2</td>\n",
       "      <td>51</td>\n",
       "      <td>18.08</td>\n",
       "      <td>4</td>\n",
       "      <td>13</td>\n",
       "      <td>16.88</td>\n",
       "      <td>56.75</td>\n",
       "      <td>3.37</td>\n",
       "      <td>16.48</td>\n",
       "      <td>6.53</td>\n",
       "      <td>0.00</td>\n",
       "      <td>0.0</td>\n",
       "      <td>0.0</td>\n",
       "    </tr>\n",
       "    <tr>\n",
       "      <th>3</th>\n",
       "      <td>1</td>\n",
       "      <td>3</td>\n",
       "      <td>57</td>\n",
       "      <td>16.51</td>\n",
       "      <td>1</td>\n",
       "      <td>12</td>\n",
       "      <td>28.81</td>\n",
       "      <td>35.99</td>\n",
       "      <td>11.78</td>\n",
       "      <td>4.62</td>\n",
       "      <td>2.87</td>\n",
       "      <td>15.92</td>\n",
       "      <td>0.0</td>\n",
       "      <td>0.0</td>\n",
       "    </tr>\n",
       "    <tr>\n",
       "      <th>4</th>\n",
       "      <td>1</td>\n",
       "      <td>4</td>\n",
       "      <td>53</td>\n",
       "      <td>18.31</td>\n",
       "      <td>2</td>\n",
       "      <td>11</td>\n",
       "      <td>24.13</td>\n",
       "      <td>60.38</td>\n",
       "      <td>7.78</td>\n",
       "      <td>7.72</td>\n",
       "      <td>0.00</td>\n",
       "      <td>0.00</td>\n",
       "      <td>0.0</td>\n",
       "      <td>0.0</td>\n",
       "    </tr>\n",
       "  </tbody>\n",
       "</table>\n",
       "</div>"
      ],
      "text/plain": [
       "   customer  order  total_items  discount%  weekday  hour  Food%  Fresh%  \\\n",
       "0         0      0           45      23.03        4    13   9.46   87.06   \n",
       "1         0      1           38       1.22        5    13  15.87   75.80   \n",
       "2         0      2           51      18.08        4    13  16.88   56.75   \n",
       "3         1      3           57      16.51        1    12  28.81   35.99   \n",
       "4         1      4           53      18.31        2    11  24.13   60.38   \n",
       "\n",
       "   Drinks%  Home%  Beauty%  Health%  Baby%  Pets%  \n",
       "0     3.48   0.00     0.00     0.00    0.0    0.0  \n",
       "1     6.22   2.12     0.00     0.00    0.0    0.0  \n",
       "2     3.37  16.48     6.53     0.00    0.0    0.0  \n",
       "3    11.78   4.62     2.87    15.92    0.0    0.0  \n",
       "4     7.78   7.72     0.00     0.00    0.0    0.0  "
      ]
     },
     "execution_count": 3,
     "metadata": {},
     "output_type": "execute_result"
    }
   ],
   "source": [
    "df.head()"
   ]
  },
  {
   "cell_type": "code",
   "execution_count": 30,
   "metadata": {},
   "outputs": [
    {
     "data": {
      "text/html": [
       "<div>\n",
       "<style scoped>\n",
       "    .dataframe tbody tr th:only-of-type {\n",
       "        vertical-align: middle;\n",
       "    }\n",
       "\n",
       "    .dataframe tbody tr th {\n",
       "        vertical-align: top;\n",
       "    }\n",
       "\n",
       "    .dataframe thead th {\n",
       "        text-align: right;\n",
       "    }\n",
       "</style>\n",
       "<table border=\"1\" class=\"dataframe\">\n",
       "  <thead>\n",
       "    <tr style=\"text-align: right;\">\n",
       "      <th></th>\n",
       "      <th>customer</th>\n",
       "      <th>total_items</th>\n",
       "    </tr>\n",
       "  </thead>\n",
       "  <tbody>\n",
       "    <tr>\n",
       "      <th>0</th>\n",
       "      <td>0</td>\n",
       "      <td>134</td>\n",
       "    </tr>\n",
       "    <tr>\n",
       "      <th>1</th>\n",
       "      <td>1</td>\n",
       "      <td>623</td>\n",
       "    </tr>\n",
       "    <tr>\n",
       "      <th>2</th>\n",
       "      <td>2</td>\n",
       "      <td>26</td>\n",
       "    </tr>\n",
       "    <tr>\n",
       "      <th>3</th>\n",
       "      <td>3</td>\n",
       "      <td>639</td>\n",
       "    </tr>\n",
       "    <tr>\n",
       "      <th>4</th>\n",
       "      <td>4</td>\n",
       "      <td>496</td>\n",
       "    </tr>\n",
       "    <tr>\n",
       "      <th>...</th>\n",
       "      <td>...</td>\n",
       "      <td>...</td>\n",
       "    </tr>\n",
       "    <tr>\n",
       "      <th>10234</th>\n",
       "      <td>10234</td>\n",
       "      <td>1</td>\n",
       "    </tr>\n",
       "    <tr>\n",
       "      <th>10235</th>\n",
       "      <td>10235</td>\n",
       "      <td>4</td>\n",
       "    </tr>\n",
       "    <tr>\n",
       "      <th>10236</th>\n",
       "      <td>10236</td>\n",
       "      <td>1</td>\n",
       "    </tr>\n",
       "    <tr>\n",
       "      <th>10237</th>\n",
       "      <td>10237</td>\n",
       "      <td>64</td>\n",
       "    </tr>\n",
       "    <tr>\n",
       "      <th>10238</th>\n",
       "      <td>10238</td>\n",
       "      <td>2</td>\n",
       "    </tr>\n",
       "  </tbody>\n",
       "</table>\n",
       "<p>10239 rows × 2 columns</p>\n",
       "</div>"
      ],
      "text/plain": [
       "       customer  total_items\n",
       "0             0          134\n",
       "1             1          623\n",
       "2             2           26\n",
       "3             3          639\n",
       "4             4          496\n",
       "...         ...          ...\n",
       "10234     10234            1\n",
       "10235     10235            4\n",
       "10236     10236            1\n",
       "10237     10237           64\n",
       "10238     10238            2\n",
       "\n",
       "[10239 rows x 2 columns]"
      ]
     },
     "execution_count": 30,
     "metadata": {},
     "output_type": "execute_result"
    }
   ],
   "source": [
    "df.groupby('customer')['total_items' ].sum().reset_index()"
   ]
  },
  {
   "cell_type": "code",
   "execution_count": null,
   "metadata": {},
   "outputs": [],
   "source": [
    "df.head()"
   ]
  },
  {
   "cell_type": "code",
   "execution_count": null,
   "metadata": {},
   "outputs": [],
   "source": [
    "df.isnull().any().sum()\n",
    "# no missing values in data set "
   ]
  },
  {
   "cell_type": "code",
   "execution_count": null,
   "metadata": {
    "scrolled": true
   },
   "outputs": [],
   "source": [
    "# out;ier cut at 99"
   ]
  },
  {
   "cell_type": "code",
   "execution_count": null,
   "metadata": {},
   "outputs": [],
   "source": []
  },
  {
   "cell_type": "code",
   "execution_count": 31,
   "metadata": {},
   "outputs": [
    {
     "data": {
      "text/plain": [
       "<matplotlib.axes._subplots.AxesSubplot at 0x1fe080ed7c0>"
      ]
     },
     "execution_count": 31,
     "metadata": {},
     "output_type": "execute_result"
    },
    {
     "data": {
      "image/png": "[encoded data removed]",
      "text/plain": [
       "<Figure size 432x288 with 1 Axes>"
      ]
     },
     "metadata": {
      "needs_background": "light"
     },
     "output_type": "display_data"
    }
   ],
   "source": [
    "# checking for outliers\n",
    "df.boxplot(column= ['total_items','Health%' , 'Pets%'])"
   ]
  },
  {
   "cell_type": "code",
   "execution_count": null,
   "metadata": {},
   "outputs": [],
   "source": [
    "# df['total_items'] = np.log(df['total_items'])"
   ]
  },
  {
   "cell_type": "code",
   "execution_count": null,
   "metadata": {},
   "outputs": [],
   "source": [
    "df['total_items'].hist()"
   ]
  },
  {
   "cell_type": "code",
   "execution_count": 56,
   "metadata": {},
   "outputs": [],
   "source": [
    "df = df.apply(lambda x: x.clip(lower = x.dropna().quantile(0.01), upper = x.quantile(0.95)))"
   ]
  },
  {
   "cell_type": "code",
   "execution_count": null,
   "metadata": {},
   "outputs": [],
   "source": [
    "df.head()"
   ]
  },
  {
   "cell_type": "code",
   "execution_count": 32,
   "metadata": {},
   "outputs": [],
   "source": [
    "df.drop(['customer', 'order', 'hour'], axis = 1 , inplace = True)"
   ]
  },
  {
   "cell_type": "code",
   "execution_count": null,
   "metadata": {},
   "outputs": [],
   "source": [
    "df.info()"
   ]
  },
  {
   "cell_type": "code",
   "execution_count": 57,
   "metadata": {},
   "outputs": [
    {
     "data": {
      "text/html": [
       "<div>\n",
       "<style scoped>\n",
       "    .dataframe tbody tr th:only-of-type {\n",
       "        vertical-align: middle;\n",
       "    }\n",
       "\n",
       "    .dataframe tbody tr th {\n",
       "        vertical-align: top;\n",
       "    }\n",
       "\n",
       "    .dataframe thead th {\n",
       "        text-align: right;\n",
       "    }\n",
       "</style>\n",
       "<table border=\"1\" class=\"dataframe\">\n",
       "  <thead>\n",
       "    <tr style=\"text-align: right;\">\n",
       "      <th></th>\n",
       "      <th>count</th>\n",
       "      <th>mean</th>\n",
       "      <th>std</th>\n",
       "      <th>min</th>\n",
       "      <th>1%</th>\n",
       "      <th>25%</th>\n",
       "      <th>50%</th>\n",
       "      <th>75%</th>\n",
       "      <th>90%</th>\n",
       "      <th>95%</th>\n",
       "      <th>99%</th>\n",
       "      <th>max</th>\n",
       "    </tr>\n",
       "  </thead>\n",
       "  <tbody>\n",
       "    <tr>\n",
       "      <th>total_items</th>\n",
       "      <td>30000.0</td>\n",
       "      <td>30.788133</td>\n",
       "      <td>17.519939</td>\n",
       "      <td>1.0</td>\n",
       "      <td>1.0</td>\n",
       "      <td>18.0000</td>\n",
       "      <td>29.00</td>\n",
       "      <td>41.0000</td>\n",
       "      <td>57.000</td>\n",
       "      <td>70.000000</td>\n",
       "      <td>70.0000</td>\n",
       "      <td>70.0000</td>\n",
       "    </tr>\n",
       "    <tr>\n",
       "      <th>discount%</th>\n",
       "      <td>30000.0</td>\n",
       "      <td>7.115061</td>\n",
       "      <td>7.976709</td>\n",
       "      <td>0.0</td>\n",
       "      <td>0.0</td>\n",
       "      <td>1.1775</td>\n",
       "      <td>4.16</td>\n",
       "      <td>9.9900</td>\n",
       "      <td>19.870</td>\n",
       "      <td>28.650150</td>\n",
       "      <td>28.6530</td>\n",
       "      <td>28.6530</td>\n",
       "    </tr>\n",
       "    <tr>\n",
       "      <th>weekday</th>\n",
       "      <td>30000.0</td>\n",
       "      <td>3.642367</td>\n",
       "      <td>2.122031</td>\n",
       "      <td>1.0</td>\n",
       "      <td>1.0</td>\n",
       "      <td>2.0000</td>\n",
       "      <td>3.00</td>\n",
       "      <td>5.0000</td>\n",
       "      <td>7.000</td>\n",
       "      <td>7.000000</td>\n",
       "      <td>7.0000</td>\n",
       "      <td>7.0000</td>\n",
       "    </tr>\n",
       "    <tr>\n",
       "      <th>Food%</th>\n",
       "      <td>30000.0</td>\n",
       "      <td>22.449527</td>\n",
       "      <td>18.528418</td>\n",
       "      <td>0.0</td>\n",
       "      <td>0.0</td>\n",
       "      <td>7.2200</td>\n",
       "      <td>19.65</td>\n",
       "      <td>33.2600</td>\n",
       "      <td>49.630</td>\n",
       "      <td>65.940050</td>\n",
       "      <td>65.9410</td>\n",
       "      <td>65.9410</td>\n",
       "    </tr>\n",
       "    <tr>\n",
       "      <th>Fresh%</th>\n",
       "      <td>30000.0</td>\n",
       "      <td>19.641200</td>\n",
       "      <td>22.193708</td>\n",
       "      <td>0.0</td>\n",
       "      <td>0.0</td>\n",
       "      <td>0.0000</td>\n",
       "      <td>10.93</td>\n",
       "      <td>35.7900</td>\n",
       "      <td>56.192</td>\n",
       "      <td>67.450025</td>\n",
       "      <td>67.4505</td>\n",
       "      <td>67.4505</td>\n",
       "    </tr>\n",
       "    <tr>\n",
       "      <th>Drinks%</th>\n",
       "      <td>30000.0</td>\n",
       "      <td>22.418526</td>\n",
       "      <td>19.901809</td>\n",
       "      <td>0.0</td>\n",
       "      <td>0.0</td>\n",
       "      <td>6.7100</td>\n",
       "      <td>17.89</td>\n",
       "      <td>33.1625</td>\n",
       "      <td>53.470</td>\n",
       "      <td>70.200125</td>\n",
       "      <td>70.2025</td>\n",
       "      <td>70.2025</td>\n",
       "    </tr>\n",
       "    <tr>\n",
       "      <th>Home%</th>\n",
       "      <td>30000.0</td>\n",
       "      <td>12.555341</td>\n",
       "      <td>14.607629</td>\n",
       "      <td>0.0</td>\n",
       "      <td>0.0</td>\n",
       "      <td>0.0000</td>\n",
       "      <td>7.21</td>\n",
       "      <td>20.0025</td>\n",
       "      <td>36.351</td>\n",
       "      <td>49.170025</td>\n",
       "      <td>49.1705</td>\n",
       "      <td>49.1705</td>\n",
       "    </tr>\n",
       "    <tr>\n",
       "      <th>Beauty%</th>\n",
       "      <td>30000.0</td>\n",
       "      <td>4.418519</td>\n",
       "      <td>7.202413</td>\n",
       "      <td>0.0</td>\n",
       "      <td>0.0</td>\n",
       "      <td>0.0000</td>\n",
       "      <td>0.00</td>\n",
       "      <td>6.5125</td>\n",
       "      <td>15.890</td>\n",
       "      <td>25.240000</td>\n",
       "      <td>25.2400</td>\n",
       "      <td>25.2400</td>\n",
       "    </tr>\n",
       "    <tr>\n",
       "      <th>Health%</th>\n",
       "      <td>30000.0</td>\n",
       "      <td>0.551184</td>\n",
       "      <td>1.862692</td>\n",
       "      <td>0.0</td>\n",
       "      <td>0.0</td>\n",
       "      <td>0.0000</td>\n",
       "      <td>0.00</td>\n",
       "      <td>0.0000</td>\n",
       "      <td>0.000</td>\n",
       "      <td>7.670000</td>\n",
       "      <td>7.6700</td>\n",
       "      <td>7.6700</td>\n",
       "    </tr>\n",
       "    <tr>\n",
       "      <th>Baby%</th>\n",
       "      <td>30000.0</td>\n",
       "      <td>10.272455</td>\n",
       "      <td>21.989758</td>\n",
       "      <td>0.0</td>\n",
       "      <td>0.0</td>\n",
       "      <td>0.0000</td>\n",
       "      <td>0.00</td>\n",
       "      <td>4.1725</td>\n",
       "      <td>45.470</td>\n",
       "      <td>79.130125</td>\n",
       "      <td>79.1325</td>\n",
       "      <td>79.1325</td>\n",
       "    </tr>\n",
       "    <tr>\n",
       "      <th>Pets%</th>\n",
       "      <td>30000.0</td>\n",
       "      <td>0.268096</td>\n",
       "      <td>1.034430</td>\n",
       "      <td>0.0</td>\n",
       "      <td>0.0</td>\n",
       "      <td>0.0000</td>\n",
       "      <td>0.00</td>\n",
       "      <td>0.0000</td>\n",
       "      <td>0.000</td>\n",
       "      <td>4.490000</td>\n",
       "      <td>4.4900</td>\n",
       "      <td>4.4900</td>\n",
       "    </tr>\n",
       "  </tbody>\n",
       "</table>\n",
       "</div>"
      ],
      "text/plain": [
       "               count       mean        std  min   1%      25%    50%      75%  \\\n",
       "total_items  30000.0  30.788133  17.519939  1.0  1.0  18.0000  29.00  41.0000   \n",
       "discount%    30000.0   7.115061   7.976709  0.0  0.0   1.1775   4.16   9.9900   \n",
       "weekday      30000.0   3.642367   2.122031  1.0  1.0   2.0000   3.00   5.0000   \n",
       "Food%        30000.0  22.449527  18.528418  0.0  0.0   7.2200  19.65  33.2600   \n",
       "Fresh%       30000.0  19.641200  22.193708  0.0  0.0   0.0000  10.93  35.7900   \n",
       "Drinks%      30000.0  22.418526  19.901809  0.0  0.0   6.7100  17.89  33.1625   \n",
       "Home%        30000.0  12.555341  14.607629  0.0  0.0   0.0000   7.21  20.0025   \n",
       "Beauty%      30000.0   4.418519   7.202413  0.0  0.0   0.0000   0.00   6.5125   \n",
       "Health%      30000.0   0.551184   1.862692  0.0  0.0   0.0000   0.00   0.0000   \n",
       "Baby%        30000.0  10.272455  21.989758  0.0  0.0   0.0000   0.00   4.1725   \n",
       "Pets%        30000.0   0.268096   1.034430  0.0  0.0   0.0000   0.00   0.0000   \n",
       "\n",
       "                90%        95%      99%      max  \n",
       "total_items  57.000  70.000000  70.0000  70.0000  \n",
       "discount%    19.870  28.650150  28.6530  28.6530  \n",
       "weekday       7.000   7.000000   7.0000   7.0000  \n",
       "Food%        49.630  65.940050  65.9410  65.9410  \n",
       "Fresh%       56.192  67.450025  67.4505  67.4505  \n",
       "Drinks%      53.470  70.200125  70.2025  70.2025  \n",
       "Home%        36.351  49.170025  49.1705  49.1705  \n",
       "Beauty%      15.890  25.240000  25.2400  25.2400  \n",
       "Health%       0.000   7.670000   7.6700   7.6700  \n",
       "Baby%        45.470  79.130125  79.1325  79.1325  \n",
       "Pets%         0.000   4.490000   4.4900   4.4900  "
      ]
     },
     "execution_count": 57,
     "metadata": {},
     "output_type": "execute_result"
    }
   ],
   "source": [
    "df.describe(percentiles=[.01, .25 , .50, .75, .90 , .95 , .99]).T"
   ]
  },
  {
   "cell_type": "code",
   "execution_count": null,
   "metadata": {},
   "outputs": [],
   "source": [
    "df.corr().to_csv('C:/Users/tejan/Desktop/corr.csv')"
   ]
  },
  {
   "cell_type": "code",
   "execution_count": null,
   "metadata": {},
   "outputs": [],
   "source": []
  },
  {
   "cell_type": "code",
   "execution_count": null,
   "metadata": {},
   "outputs": [],
   "source": [
    "import pandas_profiling\n",
    "# pandas_profiling.ProfileReport(df)"
   ]
  },
  {
   "cell_type": "code",
   "execution_count": null,
   "metadata": {},
   "outputs": [],
   "source": [
    "df = df.drop_duplicates()"
   ]
  },
  {
   "cell_type": "code",
   "execution_count": 58,
   "metadata": {},
   "outputs": [
    {
     "data": {
      "text/plain": [
       "(30000, 11)"
      ]
     },
     "execution_count": 58,
     "metadata": {},
     "output_type": "execute_result"
    }
   ],
   "source": [
    "df.shape"
   ]
  },
  {
   "cell_type": "code",
   "execution_count": 59,
   "metadata": {},
   "outputs": [],
   "source": [
    "from sklearn.preprocessing import StandardScaler\n",
    "sc=StandardScaler()\n",
    "\n",
    "df_scale=sc.fit_transform(df)"
   ]
  },
  {
   "cell_type": "code",
   "execution_count": 60,
   "metadata": {},
   "outputs": [
    {
     "data": {
      "text/plain": [
       "(30000, 11)"
      ]
     },
     "execution_count": 60,
     "metadata": {},
     "output_type": "execute_result"
    }
   ],
   "source": [
    "df_scale.shape"
   ]
  },
  {
   "cell_type": "code",
   "execution_count": 61,
   "metadata": {},
   "outputs": [],
   "source": [
    "from sklearn.decomposition import PCA\n",
    "pc = PCA(n_components=11)"
   ]
  },
  {
   "cell_type": "code",
   "execution_count": 62,
   "metadata": {},
   "outputs": [
    {
     "data": {
      "text/plain": [
       "PCA(n_components=11)"
      ]
     },
     "execution_count": 62,
     "metadata": {},
     "output_type": "execute_result"
    }
   ],
   "source": [
    "pc.fit(df_scale)"
   ]
  },
  {
   "cell_type": "code",
   "execution_count": 63,
   "metadata": {},
   "outputs": [
    {
     "data": {
      "text/plain": [
       "array([1.79, 1.43, 1.28, 1.12, 1.01, 1.01, 0.98, 0.91, 0.75, 0.65, 0.08])"
      ]
     },
     "execution_count": 63,
     "metadata": {},
     "output_type": "execute_result"
    }
   ],
   "source": [
    "np.around(pc.explained_variance_,2)  #Eigen value"
   ]
  },
  {
   "cell_type": "code",
   "execution_count": 64,
   "metadata": {},
   "outputs": [
    {
     "data": {
      "text/plain": [
       "array([ 16.28,  29.26,  40.91,  51.11,  60.27,  69.41,  78.29,  86.56,\n",
       "        93.42,  99.29, 100.01])"
      ]
     },
     "execution_count": 64,
     "metadata": {},
     "output_type": "execute_result"
    }
   ],
   "source": [
    "#Cumulative Variance expl\n",
    "np.cumsum(np.round(pc.explained_variance_ratio_, decimals=4)*100)"
   ]
  },
  {
   "cell_type": "code",
   "execution_count": 65,
   "metadata": {},
   "outputs": [],
   "source": [
    "# 7 components through PCA"
   ]
  },
  {
   "cell_type": "code",
   "execution_count": 66,
   "metadata": {},
   "outputs": [],
   "source": [
    "pc_final=PCA(n_components=7).fit(df_scale)"
   ]
  },
  {
   "cell_type": "code",
   "execution_count": 67,
   "metadata": {},
   "outputs": [
    {
     "data": {
      "text/plain": [
       "array([1.79079823, 1.42790759, 1.2816115 , 1.12171319, 1.00785935,\n",
       "       1.00540917, 0.97629536])"
      ]
     },
     "execution_count": 67,
     "metadata": {},
     "output_type": "execute_result"
    }
   ],
   "source": [
    "pc_final.explained_variance_"
   ]
  },
  {
   "cell_type": "code",
   "execution_count": 68,
   "metadata": {},
   "outputs": [],
   "source": [
    "reduced_cr=pc_final.fit_transform(df_scale)  # the out put is Factors (F1, F2, ...F9)"
   ]
  },
  {
   "cell_type": "code",
   "execution_count": 69,
   "metadata": {},
   "outputs": [],
   "source": [
    "dimensions = pd.DataFrame(reduced_cr)"
   ]
  },
  {
   "cell_type": "code",
   "execution_count": 70,
   "metadata": {},
   "outputs": [],
   "source": [
    "dimensions.columns = [\"C1\", \"C2\", \"C3\", \"C4\", \"C5\", \"C6\", \"C7\"]"
   ]
  },
  {
   "cell_type": "code",
   "execution_count": 71,
   "metadata": {},
   "outputs": [],
   "source": [
    "from sklearn.cluster import KMeans"
   ]
  },
  {
   "cell_type": "code",
   "execution_count": 72,
   "metadata": {},
   "outputs": [
    {
     "data": {
      "text/plain": [
       "KMeans(n_clusters=3, random_state=123)"
      ]
     },
     "execution_count": 72,
     "metadata": {},
     "output_type": "execute_result"
    }
   ],
   "source": [
    "km_3=KMeans(n_clusters=3,random_state=123)\n",
    "km_3.fit(dimensions)\n"
   ]
  },
  {
   "cell_type": "code",
   "execution_count": 73,
   "metadata": {},
   "outputs": [
    {
     "data": {
      "text/plain": [
       "0    0.4762\n",
       "1    0.3855\n",
       "2    0.1383\n",
       "dtype: float64"
      ]
     },
     "execution_count": 73,
     "metadata": {},
     "output_type": "execute_result"
    }
   ],
   "source": [
    "pd.Series(km_3.labels_).value_counts()/sum(pd.Series(km_3.labels_).value_counts())"
   ]
  },
  {
   "cell_type": "code",
   "execution_count": 79,
   "metadata": {},
   "outputs": [],
   "source": [
    "km_4=KMeans(n_clusters=4,random_state=123).fit(dimensions)\n",
    "km_5=KMeans(n_clusters=5,random_state=123).fit(dimensions)\n",
    "#km_5.labels_\n",
    "\n",
    "km_6=KMeans(n_clusters=6,random_state=123).fit(dimensions)\n",
    "#km_6.labels_\n",
    "\n",
    "km_7=KMeans(n_clusters=7,random_state=123).fit(dimensions)\n",
    "#km_7.labels_\n",
    "\n",
    "km_8=KMeans(n_clusters=8,random_state=123).fit(dimensions)\n",
    "\n",
    "km_9=KMeans(n_clusters=9,random_state=123).fit(dimensions)\n",
    "km_10=KMeans(n_clusters=10,random_state=123).fit(dimensions)\n",
    "\n",
    "#km_5.labels_"
   ]
  },
  {
   "cell_type": "code",
   "execution_count": 80,
   "metadata": {},
   "outputs": [
    {
     "data": {
      "text/plain": [
       "8    0.155200\n",
       "4    0.126133\n",
       "0    0.111000\n",
       "3    0.107967\n",
       "2    0.101033\n",
       "6    0.097433\n",
       "1    0.085467\n",
       "7    0.079767\n",
       "9    0.077600\n",
       "5    0.058400\n",
       "dtype: float64"
      ]
     },
     "execution_count": 80,
     "metadata": {},
     "output_type": "execute_result"
    }
   ],
   "source": [
    "pd.Series(km_10.labels_).value_counts()/sum(pd.Series(km_10.labels_).value_counts())"
   ]
  },
  {
   "cell_type": "code",
   "execution_count": 81,
   "metadata": {},
   "outputs": [],
   "source": [
    "# Conactenating labels found through Kmeans with data \n",
    "#cluster_df_4=pd.concat([telco_num,pd.Series(km_4.labels_,name='Cluster_4')],axis=1)\n",
    "\n",
    "df['cluster_4'] = km_4.labels_\n",
    "df['cluster_5'] = km_5.labels_\n",
    "df['cluster_6'] = km_6.labels_\n",
    "df['cluster_7'] = km_7.labels_\n",
    "df['cluster_8'] = km_8.labels_\n",
    "df['cluster_9'] = km_9.labels_\n",
    "\n",
    "\n"
   ]
  },
  {
   "cell_type": "code",
   "execution_count": 82,
   "metadata": {},
   "outputs": [
    {
     "data": {
      "text/plain": [
       "0.21047417743465596"
      ]
     },
     "execution_count": 82,
     "metadata": {},
     "output_type": "execute_result"
    }
   ],
   "source": [
    "# calculate SC for K=4\n",
    "from sklearn import metrics\n",
    "metrics.silhouette_score(dimensions, km_4.labels_)"
   ]
  },
  {
   "cell_type": "code",
   "execution_count": 83,
   "metadata": {},
   "outputs": [],
   "source": [
    "# calculate SC for K=3 through K=12\n",
    "k_range = range(4, 12)\n",
    "scores = []\n",
    "for k in k_range:\n",
    "    km = KMeans(n_clusters=k, random_state=123)\n",
    "    km.fit(dimensions)\n",
    "    scores.append(metrics.silhouette_score(dimensions, km.labels_))"
   ]
  },
  {
   "cell_type": "code",
   "execution_count": 84,
   "metadata": {},
   "outputs": [],
   "source": [
    "from matplotlib import pyplot as plt"
   ]
  },
  {
   "cell_type": "code",
   "execution_count": 85,
   "metadata": {},
   "outputs": [
    {
     "data": {
      "image/png": "[encoded data removed]",
      "text/plain": [
       "<Figure size 432x288 with 1 Axes>"
      ]
     },
     "metadata": {
      "needs_background": "light"
     },
     "output_type": "display_data"
    }
   ],
   "source": [
    "# plot the results\n",
    "plt.plot(k_range, scores)\n",
    "plt.xlabel('Number of clusters')\n",
    "plt.ylabel('Silhouette Coefficient')\n",
    "plt.grid(True)"
   ]
  },
  {
   "cell_type": "code",
   "execution_count": 86,
   "metadata": {},
   "outputs": [],
   "source": [
    "cluster_range = range( 2, 20 )\n",
    "cluster_errors = []\n",
    "\n",
    "for num_clusters in cluster_range:\n",
    "    clusters = KMeans( num_clusters )\n",
    "    clusters.fit( dimensions  )\n",
    "    cluster_errors.append( clusters.inertia_ )"
   ]
  },
  {
   "cell_type": "code",
   "execution_count": 87,
   "metadata": {},
   "outputs": [
    {
     "data": {
      "text/html": [
       "<div>\n",
       "<style scoped>\n",
       "    .dataframe tbody tr th:only-of-type {\n",
       "        vertical-align: middle;\n",
       "    }\n",
       "\n",
       "    .dataframe tbody tr th {\n",
       "        vertical-align: top;\n",
       "    }\n",
       "\n",
       "    .dataframe thead th {\n",
       "        text-align: right;\n",
       "    }\n",
       "</style>\n",
       "<table border=\"1\" class=\"dataframe\">\n",
       "  <thead>\n",
       "    <tr style=\"text-align: right;\">\n",
       "      <th></th>\n",
       "      <th>num_clusters</th>\n",
       "      <th>cluster_errors</th>\n",
       "    </tr>\n",
       "  </thead>\n",
       "  <tbody>\n",
       "    <tr>\n",
       "      <th>0</th>\n",
       "      <td>2</td>\n",
       "      <td>220346.264228</td>\n",
       "    </tr>\n",
       "    <tr>\n",
       "      <th>1</th>\n",
       "      <td>3</td>\n",
       "      <td>191220.811483</td>\n",
       "    </tr>\n",
       "    <tr>\n",
       "      <th>2</th>\n",
       "      <td>4</td>\n",
       "      <td>164310.053282</td>\n",
       "    </tr>\n",
       "    <tr>\n",
       "      <th>3</th>\n",
       "      <td>5</td>\n",
       "      <td>143204.958084</td>\n",
       "    </tr>\n",
       "    <tr>\n",
       "      <th>4</th>\n",
       "      <td>6</td>\n",
       "      <td>125307.113648</td>\n",
       "    </tr>\n",
       "    <tr>\n",
       "      <th>5</th>\n",
       "      <td>7</td>\n",
       "      <td>109172.744197</td>\n",
       "    </tr>\n",
       "    <tr>\n",
       "      <th>6</th>\n",
       "      <td>8</td>\n",
       "      <td>102009.524841</td>\n",
       "    </tr>\n",
       "    <tr>\n",
       "      <th>7</th>\n",
       "      <td>9</td>\n",
       "      <td>97784.094072</td>\n",
       "    </tr>\n",
       "    <tr>\n",
       "      <th>8</th>\n",
       "      <td>10</td>\n",
       "      <td>93792.580054</td>\n",
       "    </tr>\n",
       "    <tr>\n",
       "      <th>9</th>\n",
       "      <td>11</td>\n",
       "      <td>90104.517685</td>\n",
       "    </tr>\n",
       "  </tbody>\n",
       "</table>\n",
       "</div>"
      ],
      "text/plain": [
       "   num_clusters  cluster_errors\n",
       "0             2   220346.264228\n",
       "1             3   191220.811483\n",
       "2             4   164310.053282\n",
       "3             5   143204.958084\n",
       "4             6   125307.113648\n",
       "5             7   109172.744197\n",
       "6             8   102009.524841\n",
       "7             9    97784.094072\n",
       "8            10    93792.580054\n",
       "9            11    90104.517685"
      ]
     },
     "execution_count": 87,
     "metadata": {},
     "output_type": "execute_result"
    }
   ],
   "source": [
    "clusters_df = pd.DataFrame( { \"num_clusters\":cluster_range, \"cluster_errors\": cluster_errors } )\n",
    "\n",
    "clusters_df[0:10]"
   ]
  },
  {
   "cell_type": "code",
   "execution_count": 88,
   "metadata": {
    "scrolled": false
   },
   "outputs": [
    {
     "data": {
      "text/plain": [
       "[<matplotlib.lines.Line2D at 0x1fe0ad90fa0>]"
      ]
     },
     "execution_count": 88,
     "metadata": {},
     "output_type": "execute_result"
    },
    {
     "data": {
      "image/png": "[encoded data removed]",
      "text/plain": [
       "<Figure size 864x432 with 1 Axes>"
      ]
     },
     "metadata": {
      "needs_background": "light"
     },
     "output_type": "display_data"
    }
   ],
   "source": [
    "# allow plots to appear in the notebook\n",
    "%matplotlib inline\n",
    "import matplotlib.pyplot as plt\n",
    "plt.figure(figsize=(12,6))\n",
    "plt.plot( clusters_df.num_clusters, clusters_df.cluster_errors, marker = \"o\" )"
   ]
  },
  {
   "cell_type": "code",
   "execution_count": 102,
   "metadata": {
    "scrolled": true
   },
   "outputs": [
    {
     "data": {
      "text/html": [
       "<div>\n",
       "<style scoped>\n",
       "    .dataframe tbody tr th:only-of-type {\n",
       "        vertical-align: middle;\n",
       "    }\n",
       "\n",
       "    .dataframe tbody tr th {\n",
       "        vertical-align: top;\n",
       "    }\n",
       "\n",
       "    .dataframe thead th {\n",
       "        text-align: right;\n",
       "    }\n",
       "</style>\n",
       "<table border=\"1\" class=\"dataframe\">\n",
       "  <thead>\n",
       "    <tr style=\"text-align: right;\">\n",
       "      <th></th>\n",
       "      <th>total_items</th>\n",
       "      <th>discount%</th>\n",
       "      <th>weekday</th>\n",
       "      <th>Food%</th>\n",
       "      <th>Fresh%</th>\n",
       "      <th>Drinks%</th>\n",
       "      <th>Home%</th>\n",
       "      <th>Beauty%</th>\n",
       "      <th>Health%</th>\n",
       "      <th>Baby%</th>\n",
       "      <th>Pets%</th>\n",
       "      <th>cluster_4</th>\n",
       "      <th>cluster_5</th>\n",
       "      <th>cluster_6</th>\n",
       "      <th>cluster_7</th>\n",
       "      <th>cluster_8</th>\n",
       "      <th>cluster_9</th>\n",
       "    </tr>\n",
       "  </thead>\n",
       "  <tbody>\n",
       "    <tr>\n",
       "      <th>0</th>\n",
       "      <td>45</td>\n",
       "      <td>23.03</td>\n",
       "      <td>4</td>\n",
       "      <td>9.46</td>\n",
       "      <td>67.4505</td>\n",
       "      <td>3.48</td>\n",
       "      <td>0.00</td>\n",
       "      <td>0.00</td>\n",
       "      <td>0.00</td>\n",
       "      <td>0.0</td>\n",
       "      <td>0.0</td>\n",
       "      <td>0</td>\n",
       "      <td>1</td>\n",
       "      <td>0</td>\n",
       "      <td>5</td>\n",
       "      <td>5</td>\n",
       "      <td>4</td>\n",
       "    </tr>\n",
       "    <tr>\n",
       "      <th>1</th>\n",
       "      <td>38</td>\n",
       "      <td>1.22</td>\n",
       "      <td>5</td>\n",
       "      <td>15.87</td>\n",
       "      <td>67.4505</td>\n",
       "      <td>6.22</td>\n",
       "      <td>2.12</td>\n",
       "      <td>0.00</td>\n",
       "      <td>0.00</td>\n",
       "      <td>0.0</td>\n",
       "      <td>0.0</td>\n",
       "      <td>0</td>\n",
       "      <td>1</td>\n",
       "      <td>0</td>\n",
       "      <td>5</td>\n",
       "      <td>5</td>\n",
       "      <td>4</td>\n",
       "    </tr>\n",
       "    <tr>\n",
       "      <th>2</th>\n",
       "      <td>51</td>\n",
       "      <td>18.08</td>\n",
       "      <td>4</td>\n",
       "      <td>16.88</td>\n",
       "      <td>56.7500</td>\n",
       "      <td>3.37</td>\n",
       "      <td>16.48</td>\n",
       "      <td>6.53</td>\n",
       "      <td>0.00</td>\n",
       "      <td>0.0</td>\n",
       "      <td>0.0</td>\n",
       "      <td>0</td>\n",
       "      <td>1</td>\n",
       "      <td>0</td>\n",
       "      <td>5</td>\n",
       "      <td>5</td>\n",
       "      <td>4</td>\n",
       "    </tr>\n",
       "    <tr>\n",
       "      <th>3</th>\n",
       "      <td>57</td>\n",
       "      <td>16.51</td>\n",
       "      <td>1</td>\n",
       "      <td>28.81</td>\n",
       "      <td>35.9900</td>\n",
       "      <td>11.78</td>\n",
       "      <td>4.62</td>\n",
       "      <td>2.87</td>\n",
       "      <td>7.67</td>\n",
       "      <td>0.0</td>\n",
       "      <td>0.0</td>\n",
       "      <td>0</td>\n",
       "      <td>1</td>\n",
       "      <td>1</td>\n",
       "      <td>0</td>\n",
       "      <td>0</td>\n",
       "      <td>0</td>\n",
       "    </tr>\n",
       "    <tr>\n",
       "      <th>4</th>\n",
       "      <td>53</td>\n",
       "      <td>18.31</td>\n",
       "      <td>2</td>\n",
       "      <td>24.13</td>\n",
       "      <td>60.3800</td>\n",
       "      <td>7.78</td>\n",
       "      <td>7.72</td>\n",
       "      <td>0.00</td>\n",
       "      <td>0.00</td>\n",
       "      <td>0.0</td>\n",
       "      <td>0.0</td>\n",
       "      <td>0</td>\n",
       "      <td>1</td>\n",
       "      <td>0</td>\n",
       "      <td>5</td>\n",
       "      <td>5</td>\n",
       "      <td>4</td>\n",
       "    </tr>\n",
       "  </tbody>\n",
       "</table>\n",
       "</div>"
      ],
      "text/plain": [
       "   total_items  discount%  weekday  Food%   Fresh%  Drinks%  Home%  Beauty%  \\\n",
       "0           45      23.03        4   9.46  67.4505     3.48   0.00     0.00   \n",
       "1           38       1.22        5  15.87  67.4505     6.22   2.12     0.00   \n",
       "2           51      18.08        4  16.88  56.7500     3.37  16.48     6.53   \n",
       "3           57      16.51        1  28.81  35.9900    11.78   4.62     2.87   \n",
       "4           53      18.31        2  24.13  60.3800     7.78   7.72     0.00   \n",
       "\n",
       "   Health%  Baby%  Pets%  cluster_4  cluster_5  cluster_6  cluster_7  \\\n",
       "0     0.00    0.0    0.0          0          1          0          5   \n",
       "1     0.00    0.0    0.0          0          1          0          5   \n",
       "2     0.00    0.0    0.0          0          1          0          5   \n",
       "3     7.67    0.0    0.0          0          1          1          0   \n",
       "4     0.00    0.0    0.0          0          1          0          5   \n",
       "\n",
       "   cluster_8  cluster_9  \n",
       "0          5          4  \n",
       "1          5          4  \n",
       "2          5          4  \n",
       "3          0          0  \n",
       "4          5          4  "
      ]
     },
     "execution_count": 102,
     "metadata": {},
     "output_type": "execute_result"
    }
   ],
   "source": [
    "df.head()"
   ]
  },
  {
   "cell_type": "code",
   "execution_count": null,
   "metadata": {},
   "outputs": [],
   "source": []
  },
  {
   "cell_type": "code",
   "execution_count": 106,
   "metadata": {},
   "outputs": [],
   "source": [
    "df_mew = df.drop([ 'cluster_4',\n",
    "       'cluster_5', 'cluster_6', 'cluster_7', 'cluster_9'], axis = 1)"
   ]
  },
  {
   "cell_type": "code",
   "execution_count": 107,
   "metadata": {
    "scrolled": true
   },
   "outputs": [
    {
     "data": {
      "text/html": [
       "<div>\n",
       "<style scoped>\n",
       "    .dataframe tbody tr th:only-of-type {\n",
       "        vertical-align: middle;\n",
       "    }\n",
       "\n",
       "    .dataframe tbody tr th {\n",
       "        vertical-align: top;\n",
       "    }\n",
       "\n",
       "    .dataframe thead th {\n",
       "        text-align: right;\n",
       "    }\n",
       "</style>\n",
       "<table border=\"1\" class=\"dataframe\">\n",
       "  <thead>\n",
       "    <tr style=\"text-align: right;\">\n",
       "      <th></th>\n",
       "      <th>total_items</th>\n",
       "      <th>discount%</th>\n",
       "      <th>weekday</th>\n",
       "      <th>Food%</th>\n",
       "      <th>Fresh%</th>\n",
       "      <th>Drinks%</th>\n",
       "      <th>Home%</th>\n",
       "      <th>Beauty%</th>\n",
       "      <th>Health%</th>\n",
       "      <th>Baby%</th>\n",
       "      <th>Pets%</th>\n",
       "      <th>cluster_8</th>\n",
       "    </tr>\n",
       "  </thead>\n",
       "  <tbody>\n",
       "    <tr>\n",
       "      <th>0</th>\n",
       "      <td>45</td>\n",
       "      <td>23.03</td>\n",
       "      <td>4</td>\n",
       "      <td>9.46</td>\n",
       "      <td>67.4505</td>\n",
       "      <td>3.48</td>\n",
       "      <td>0.00</td>\n",
       "      <td>0.00</td>\n",
       "      <td>0.00</td>\n",
       "      <td>0.0</td>\n",
       "      <td>0.0</td>\n",
       "      <td>5</td>\n",
       "    </tr>\n",
       "    <tr>\n",
       "      <th>1</th>\n",
       "      <td>38</td>\n",
       "      <td>1.22</td>\n",
       "      <td>5</td>\n",
       "      <td>15.87</td>\n",
       "      <td>67.4505</td>\n",
       "      <td>6.22</td>\n",
       "      <td>2.12</td>\n",
       "      <td>0.00</td>\n",
       "      <td>0.00</td>\n",
       "      <td>0.0</td>\n",
       "      <td>0.0</td>\n",
       "      <td>5</td>\n",
       "    </tr>\n",
       "    <tr>\n",
       "      <th>2</th>\n",
       "      <td>51</td>\n",
       "      <td>18.08</td>\n",
       "      <td>4</td>\n",
       "      <td>16.88</td>\n",
       "      <td>56.7500</td>\n",
       "      <td>3.37</td>\n",
       "      <td>16.48</td>\n",
       "      <td>6.53</td>\n",
       "      <td>0.00</td>\n",
       "      <td>0.0</td>\n",
       "      <td>0.0</td>\n",
       "      <td>5</td>\n",
       "    </tr>\n",
       "    <tr>\n",
       "      <th>3</th>\n",
       "      <td>57</td>\n",
       "      <td>16.51</td>\n",
       "      <td>1</td>\n",
       "      <td>28.81</td>\n",
       "      <td>35.9900</td>\n",
       "      <td>11.78</td>\n",
       "      <td>4.62</td>\n",
       "      <td>2.87</td>\n",
       "      <td>7.67</td>\n",
       "      <td>0.0</td>\n",
       "      <td>0.0</td>\n",
       "      <td>0</td>\n",
       "    </tr>\n",
       "    <tr>\n",
       "      <th>4</th>\n",
       "      <td>53</td>\n",
       "      <td>18.31</td>\n",
       "      <td>2</td>\n",
       "      <td>24.13</td>\n",
       "      <td>60.3800</td>\n",
       "      <td>7.78</td>\n",
       "      <td>7.72</td>\n",
       "      <td>0.00</td>\n",
       "      <td>0.00</td>\n",
       "      <td>0.0</td>\n",
       "      <td>0.0</td>\n",
       "      <td>5</td>\n",
       "    </tr>\n",
       "  </tbody>\n",
       "</table>\n",
       "</div>"
      ],
      "text/plain": [
       "   total_items  discount%  weekday  Food%   Fresh%  Drinks%  Home%  Beauty%  \\\n",
       "0           45      23.03        4   9.46  67.4505     3.48   0.00     0.00   \n",
       "1           38       1.22        5  15.87  67.4505     6.22   2.12     0.00   \n",
       "2           51      18.08        4  16.88  56.7500     3.37  16.48     6.53   \n",
       "3           57      16.51        1  28.81  35.9900    11.78   4.62     2.87   \n",
       "4           53      18.31        2  24.13  60.3800     7.78   7.72     0.00   \n",
       "\n",
       "   Health%  Baby%  Pets%  cluster_8  \n",
       "0     0.00    0.0    0.0          5  \n",
       "1     0.00    0.0    0.0          5  \n",
       "2     0.00    0.0    0.0          5  \n",
       "3     7.67    0.0    0.0          0  \n",
       "4     0.00    0.0    0.0          5  "
      ]
     },
     "execution_count": 107,
     "metadata": {},
     "output_type": "execute_result"
    }
   ],
   "source": [
    "df_mew.head()"
   ]
  },
  {
   "cell_type": "code",
   "execution_count": 103,
   "metadata": {},
   "outputs": [],
   "source": [
    "df_mew['label'] = km_7.predict(dimensions)"
   ]
  },
  {
   "cell_type": "code",
   "execution_count": null,
   "metadata": {},
   "outputs": [],
   "source": []
  },
  {
   "cell_type": "code",
   "execution_count": 125,
   "metadata": {},
   "outputs": [],
   "source": [
    "df_mew = df.drop([ 'cluster_4',\n",
    "       'cluster_5', 'cluster_6', 'cluster_8', 'cluster_9'], axis = 1)"
   ]
  },
  {
   "cell_type": "code",
   "execution_count": 126,
   "metadata": {},
   "outputs": [
    {
     "data": {
      "text/html": [
       "<div>\n",
       "<style scoped>\n",
       "    .dataframe tbody tr th:only-of-type {\n",
       "        vertical-align: middle;\n",
       "    }\n",
       "\n",
       "    .dataframe tbody tr th {\n",
       "        vertical-align: top;\n",
       "    }\n",
       "\n",
       "    .dataframe thead th {\n",
       "        text-align: right;\n",
       "    }\n",
       "</style>\n",
       "<table border=\"1\" class=\"dataframe\">\n",
       "  <thead>\n",
       "    <tr style=\"text-align: right;\">\n",
       "      <th></th>\n",
       "      <th>total_items</th>\n",
       "      <th>discount%</th>\n",
       "      <th>weekday</th>\n",
       "      <th>Food%</th>\n",
       "      <th>Fresh%</th>\n",
       "      <th>Drinks%</th>\n",
       "      <th>Home%</th>\n",
       "      <th>Beauty%</th>\n",
       "      <th>Health%</th>\n",
       "      <th>Baby%</th>\n",
       "      <th>Pets%</th>\n",
       "      <th>cluster_7</th>\n",
       "    </tr>\n",
       "  </thead>\n",
       "  <tbody>\n",
       "    <tr>\n",
       "      <th>0</th>\n",
       "      <td>45</td>\n",
       "      <td>23.03</td>\n",
       "      <td>4</td>\n",
       "      <td>9.46</td>\n",
       "      <td>67.4505</td>\n",
       "      <td>3.48</td>\n",
       "      <td>0.00</td>\n",
       "      <td>0.00</td>\n",
       "      <td>0.00</td>\n",
       "      <td>0.0</td>\n",
       "      <td>0.0</td>\n",
       "      <td>5</td>\n",
       "    </tr>\n",
       "    <tr>\n",
       "      <th>1</th>\n",
       "      <td>38</td>\n",
       "      <td>1.22</td>\n",
       "      <td>5</td>\n",
       "      <td>15.87</td>\n",
       "      <td>67.4505</td>\n",
       "      <td>6.22</td>\n",
       "      <td>2.12</td>\n",
       "      <td>0.00</td>\n",
       "      <td>0.00</td>\n",
       "      <td>0.0</td>\n",
       "      <td>0.0</td>\n",
       "      <td>5</td>\n",
       "    </tr>\n",
       "    <tr>\n",
       "      <th>2</th>\n",
       "      <td>51</td>\n",
       "      <td>18.08</td>\n",
       "      <td>4</td>\n",
       "      <td>16.88</td>\n",
       "      <td>56.7500</td>\n",
       "      <td>3.37</td>\n",
       "      <td>16.48</td>\n",
       "      <td>6.53</td>\n",
       "      <td>0.00</td>\n",
       "      <td>0.0</td>\n",
       "      <td>0.0</td>\n",
       "      <td>5</td>\n",
       "    </tr>\n",
       "    <tr>\n",
       "      <th>3</th>\n",
       "      <td>57</td>\n",
       "      <td>16.51</td>\n",
       "      <td>1</td>\n",
       "      <td>28.81</td>\n",
       "      <td>35.9900</td>\n",
       "      <td>11.78</td>\n",
       "      <td>4.62</td>\n",
       "      <td>2.87</td>\n",
       "      <td>7.67</td>\n",
       "      <td>0.0</td>\n",
       "      <td>0.0</td>\n",
       "      <td>0</td>\n",
       "    </tr>\n",
       "    <tr>\n",
       "      <th>4</th>\n",
       "      <td>53</td>\n",
       "      <td>18.31</td>\n",
       "      <td>2</td>\n",
       "      <td>24.13</td>\n",
       "      <td>60.3800</td>\n",
       "      <td>7.78</td>\n",
       "      <td>7.72</td>\n",
       "      <td>0.00</td>\n",
       "      <td>0.00</td>\n",
       "      <td>0.0</td>\n",
       "      <td>0.0</td>\n",
       "      <td>5</td>\n",
       "    </tr>\n",
       "  </tbody>\n",
       "</table>\n",
       "</div>"
      ],
      "text/plain": [
       "   total_items  discount%  weekday  Food%   Fresh%  Drinks%  Home%  Beauty%  \\\n",
       "0           45      23.03        4   9.46  67.4505     3.48   0.00     0.00   \n",
       "1           38       1.22        5  15.87  67.4505     6.22   2.12     0.00   \n",
       "2           51      18.08        4  16.88  56.7500     3.37  16.48     6.53   \n",
       "3           57      16.51        1  28.81  35.9900    11.78   4.62     2.87   \n",
       "4           53      18.31        2  24.13  60.3800     7.78   7.72     0.00   \n",
       "\n",
       "   Health%  Baby%  Pets%  cluster_7  \n",
       "0     0.00    0.0    0.0          5  \n",
       "1     0.00    0.0    0.0          5  \n",
       "2     0.00    0.0    0.0          5  \n",
       "3     7.67    0.0    0.0          0  \n",
       "4     0.00    0.0    0.0          5  "
      ]
     },
     "execution_count": 126,
     "metadata": {},
     "output_type": "execute_result"
    }
   ],
   "source": [
    "df_mew.head()"
   ]
  },
  {
   "cell_type": "code",
   "execution_count": 136,
   "metadata": {},
   "outputs": [
    {
     "data": {
      "text/html": [
       "<div>\n",
       "<style scoped>\n",
       "    .dataframe tbody tr th:only-of-type {\n",
       "        vertical-align: middle;\n",
       "    }\n",
       "\n",
       "    .dataframe tbody tr th {\n",
       "        vertical-align: top;\n",
       "    }\n",
       "\n",
       "    .dataframe thead th {\n",
       "        text-align: right;\n",
       "    }\n",
       "</style>\n",
       "<table border=\"1\" class=\"dataframe\">\n",
       "  <thead>\n",
       "    <tr style=\"text-align: right;\">\n",
       "      <th></th>\n",
       "      <th>count</th>\n",
       "      <th>mean</th>\n",
       "      <th>std</th>\n",
       "      <th>min</th>\n",
       "      <th>25%</th>\n",
       "      <th>50%</th>\n",
       "      <th>75%</th>\n",
       "      <th>max</th>\n",
       "    </tr>\n",
       "  </thead>\n",
       "  <tbody>\n",
       "    <tr>\n",
       "      <th>total_items</th>\n",
       "      <td>2851.0</td>\n",
       "      <td>27.890214</td>\n",
       "      <td>17.779217</td>\n",
       "      <td>1.0</td>\n",
       "      <td>16.000</td>\n",
       "      <td>26.00</td>\n",
       "      <td>38.000</td>\n",
       "      <td>70.0000</td>\n",
       "    </tr>\n",
       "    <tr>\n",
       "      <th>discount%</th>\n",
       "      <td>2851.0</td>\n",
       "      <td>5.019610</td>\n",
       "      <td>5.891175</td>\n",
       "      <td>0.0</td>\n",
       "      <td>0.680</td>\n",
       "      <td>3.17</td>\n",
       "      <td>7.220</td>\n",
       "      <td>28.6530</td>\n",
       "    </tr>\n",
       "    <tr>\n",
       "      <th>weekday</th>\n",
       "      <td>2851.0</td>\n",
       "      <td>3.600842</td>\n",
       "      <td>2.152417</td>\n",
       "      <td>1.0</td>\n",
       "      <td>2.000</td>\n",
       "      <td>3.00</td>\n",
       "      <td>6.000</td>\n",
       "      <td>7.0000</td>\n",
       "    </tr>\n",
       "    <tr>\n",
       "      <th>Food%</th>\n",
       "      <td>2851.0</td>\n",
       "      <td>18.953525</td>\n",
       "      <td>15.414069</td>\n",
       "      <td>0.0</td>\n",
       "      <td>5.690</td>\n",
       "      <td>17.73</td>\n",
       "      <td>28.855</td>\n",
       "      <td>65.9410</td>\n",
       "    </tr>\n",
       "    <tr>\n",
       "      <th>Fresh%</th>\n",
       "      <td>2851.0</td>\n",
       "      <td>14.356268</td>\n",
       "      <td>17.117350</td>\n",
       "      <td>0.0</td>\n",
       "      <td>0.000</td>\n",
       "      <td>7.20</td>\n",
       "      <td>26.035</td>\n",
       "      <td>67.4505</td>\n",
       "    </tr>\n",
       "    <tr>\n",
       "      <th>Drinks%</th>\n",
       "      <td>2851.0</td>\n",
       "      <td>16.212290</td>\n",
       "      <td>14.885342</td>\n",
       "      <td>0.0</td>\n",
       "      <td>2.755</td>\n",
       "      <td>13.90</td>\n",
       "      <td>24.650</td>\n",
       "      <td>70.2025</td>\n",
       "    </tr>\n",
       "    <tr>\n",
       "      <th>Home%</th>\n",
       "      <td>2851.0</td>\n",
       "      <td>9.997661</td>\n",
       "      <td>11.967983</td>\n",
       "      <td>0.0</td>\n",
       "      <td>0.000</td>\n",
       "      <td>6.16</td>\n",
       "      <td>15.470</td>\n",
       "      <td>49.1705</td>\n",
       "    </tr>\n",
       "    <tr>\n",
       "      <th>Beauty%</th>\n",
       "      <td>2851.0</td>\n",
       "      <td>12.860095</td>\n",
       "      <td>10.493051</td>\n",
       "      <td>0.0</td>\n",
       "      <td>1.495</td>\n",
       "      <td>11.73</td>\n",
       "      <td>25.240</td>\n",
       "      <td>25.2400</td>\n",
       "    </tr>\n",
       "    <tr>\n",
       "      <th>Health%</th>\n",
       "      <td>2851.0</td>\n",
       "      <td>4.726791</td>\n",
       "      <td>3.452627</td>\n",
       "      <td>0.0</td>\n",
       "      <td>0.000</td>\n",
       "      <td>7.26</td>\n",
       "      <td>7.670</td>\n",
       "      <td>7.6700</td>\n",
       "    </tr>\n",
       "    <tr>\n",
       "      <th>Baby%</th>\n",
       "      <td>2851.0</td>\n",
       "      <td>4.906213</td>\n",
       "      <td>12.429350</td>\n",
       "      <td>0.0</td>\n",
       "      <td>0.000</td>\n",
       "      <td>0.00</td>\n",
       "      <td>0.000</td>\n",
       "      <td>79.1325</td>\n",
       "    </tr>\n",
       "    <tr>\n",
       "      <th>Pets%</th>\n",
       "      <td>2851.0</td>\n",
       "      <td>0.036675</td>\n",
       "      <td>0.313890</td>\n",
       "      <td>0.0</td>\n",
       "      <td>0.000</td>\n",
       "      <td>0.00</td>\n",
       "      <td>0.000</td>\n",
       "      <td>4.4900</td>\n",
       "    </tr>\n",
       "    <tr>\n",
       "      <th>cluster_7</th>\n",
       "      <td>2851.0</td>\n",
       "      <td>0.000000</td>\n",
       "      <td>0.000000</td>\n",
       "      <td>0.0</td>\n",
       "      <td>0.000</td>\n",
       "      <td>0.00</td>\n",
       "      <td>0.000</td>\n",
       "      <td>0.0000</td>\n",
       "    </tr>\n",
       "  </tbody>\n",
       "</table>\n",
       "</div>"
      ],
      "text/plain": [
       "              count       mean        std  min     25%    50%     75%      max\n",
       "total_items  2851.0  27.890214  17.779217  1.0  16.000  26.00  38.000  70.0000\n",
       "discount%    2851.0   5.019610   5.891175  0.0   0.680   3.17   7.220  28.6530\n",
       "weekday      2851.0   3.600842   2.152417  1.0   2.000   3.00   6.000   7.0000\n",
       "Food%        2851.0  18.953525  15.414069  0.0   5.690  17.73  28.855  65.9410\n",
       "Fresh%       2851.0  14.356268  17.117350  0.0   0.000   7.20  26.035  67.4505\n",
       "Drinks%      2851.0  16.212290  14.885342  0.0   2.755  13.90  24.650  70.2025\n",
       "Home%        2851.0   9.997661  11.967983  0.0   0.000   6.16  15.470  49.1705\n",
       "Beauty%      2851.0  12.860095  10.493051  0.0   1.495  11.73  25.240  25.2400\n",
       "Health%      2851.0   4.726791   3.452627  0.0   0.000   7.26   7.670   7.6700\n",
       "Baby%        2851.0   4.906213  12.429350  0.0   0.000   0.00   0.000  79.1325\n",
       "Pets%        2851.0   0.036675   0.313890  0.0   0.000   0.00   0.000   4.4900\n",
       "cluster_7    2851.0   0.000000   0.000000  0.0   0.000   0.00   0.000   0.0000"
      ]
     },
     "execution_count": 136,
     "metadata": {},
     "output_type": "execute_result"
    }
   ],
   "source": [
    "df_mew[df_mew['cluster_7']==0].describe().T"
   ]
  },
  {
   "cell_type": "code",
   "execution_count": null,
   "metadata": {},
   "outputs": [],
   "source": [
    "df_mew.loc[df_mew['cluster_7']==0, 'class'] = 'Home_Products'"
   ]
  },
  {
   "cell_type": "code",
   "execution_count": null,
   "metadata": {},
   "outputs": [],
   "source": [
    "df_mew[df_mew['cluster_7']==6].describe().T"
   ]
  },
  {
   "cell_type": "code",
   "execution_count": null,
   "metadata": {},
   "outputs": [],
   "source": [
    "df_mew.loc[df_mew['cluster_7']==2, 'class'] = 'Fresh_Products'"
   ]
  },
  {
   "cell_type": "code",
   "execution_count": null,
   "metadata": {},
   "outputs": [],
   "source": [
    "df_mew.loc[df_mew['cluster_7']==1, 'class'] = 'Drinks'"
   ]
  },
  {
   "cell_type": "code",
   "execution_count": null,
   "metadata": {},
   "outputs": [],
   "source": [
    "df_mew.loc[df_mew['cluster_7']==3, 'class'] = 'Food'"
   ]
  },
  {
   "cell_type": "code",
   "execution_count": null,
   "metadata": {},
   "outputs": [],
   "source": [
    "df_mew.loc[df_mew['cluster_7']==4, 'class'] = 'Baby_Products'"
   ]
  },
  {
   "cell_type": "code",
   "execution_count": null,
   "metadata": {},
   "outputs": [],
   "source": [
    "df_mew.loc[df_mew['cluster_7']==6, 'class'] = 'Loyal_grocerries'"
   ]
  },
  {
   "cell_type": "code",
   "execution_count": null,
   "metadata": {},
   "outputs": [],
   "source": [
    "df_mew.loc[df_mew['cluster_7']==5, 'class'] = 'Loyals_buy_evrything'"
   ]
  },
  {
   "cell_type": "code",
   "execution_count": null,
   "metadata": {},
   "outputs": [],
   "source": [
    "df_mew['class'].value_counts()"
   ]
  },
  {
   "cell_type": "code",
   "execution_count": null,
   "metadata": {},
   "outputs": [],
   "source": [
    "df_mew.head()"
   ]
  },
  {
   "cell_type": "code",
   "execution_count": null,
   "metadata": {},
   "outputs": [],
   "source": [
    "df_mew.groupby('class')['total_items'].describe()"
   ]
  },
  {
   "cell_type": "code",
   "execution_count": 94,
   "metadata": {},
   "outputs": [
    {
     "data": {
      "text/plain": [
       "(30000, 11)"
      ]
     },
     "execution_count": 94,
     "metadata": {},
     "output_type": "execute_result"
    }
   ],
   "source": [
    "df_scale.shape"
   ]
  },
  {
   "cell_type": "code",
   "execution_count": 95,
   "metadata": {},
   "outputs": [
    {
     "data": {
      "text/plain": [
       "(30000, 17)"
      ]
     },
     "execution_count": 95,
     "metadata": {},
     "output_type": "execute_result"
    }
   ],
   "source": [
    "df.shape"
   ]
  },
  {
   "cell_type": "code",
   "execution_count": 98,
   "metadata": {},
   "outputs": [],
   "source": [
    "# km_8.predict(df_scale)"
   ]
  },
  {
   "cell_type": "code",
   "execution_count": null,
   "metadata": {},
   "outputs": [],
   "source": []
  },
  {
   "cell_type": "code",
   "execution_count": null,
   "metadata": {},
   "outputs": [],
   "source": []
  },
  {
   "cell_type": "code",
   "execution_count": null,
   "metadata": {},
   "outputs": [],
   "source": []
  },
  {
   "cell_type": "code",
   "execution_count": null,
   "metadata": {},
   "outputs": [],
   "source": []
  }
 ],
 "metadata": {
  "kernelspec": {
   "display_name": "Python 3",
   "language": "python",
   "name": "python3"
  },
  "language_info": {
   "codemirror_mode": {
    "name": "ipython",
    "version": 3
   },
   "file_extension": ".py",
   "mimetype": "text/x-python",
   "name": "python",
   "nbconvert_exporter": "python",
   "pygments_lexer": "ipython3",
   "version": "3.8.5"
  }
 },
 "nbformat": 4,
 "nbformat_minor": 4
}
